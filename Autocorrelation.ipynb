{
 "cells": [
  {
   "cell_type": "markdown",
   "id": "c167d996-f4d4-4e66-b048-04b28b3bce3d",
   "metadata": {},
   "source": [
    "# Autocorrelation\n",
    "To determine spatial and temporal scales in a signal, we can determine the autocorrelation as a function of time or distance (or both?) Specifically, I am interested in how to take a random sample from highly correlated satellite data (taken at a 1 Hz frequency)"
   ]
  },
  {
   "cell_type": "code",
   "execution_count": null,
   "id": "6b8d4334-6ad5-4b4e-b8d4-c7f70afe78d4",
   "metadata": {},
   "outputs": [],
   "source": []
  }
 ],
 "metadata": {
  "kernelspec": {
   "display_name": "Python 3 (ipykernel)",
   "language": "python",
   "name": "python3"
  },
  "language_info": {
   "codemirror_mode": {
    "name": "ipython",
    "version": 3
   },
   "file_extension": ".py",
   "mimetype": "text/x-python",
   "name": "python",
   "nbconvert_exporter": "python",
   "pygments_lexer": "ipython3",
   "version": "3.9.13"
  }
 },
 "nbformat": 4,
 "nbformat_minor": 5
}
